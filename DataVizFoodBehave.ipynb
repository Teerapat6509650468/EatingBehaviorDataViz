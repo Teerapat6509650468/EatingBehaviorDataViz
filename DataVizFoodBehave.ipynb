{
  "nbformat": 4,
  "nbformat_minor": 0,
  "metadata": {
    "colab": {
      "provenance": [],
      "toc_visible": true
    },
    "kernelspec": {
      "name": "python3",
      "display_name": "Python 3"
    },
    "language_info": {
      "name": "python"
    }
  },
  "cells": [
    {
      "cell_type": "markdown",
      "source": [
        "# imports"
      ],
      "metadata": {
        "id": "p0E48iqtSRl1"
      }
    },
    {
      "cell_type": "code",
      "source": [
        "!pip install plotly #สร้างกราฟและแผนภูมิต่าง ๆ โดย Plotly\n",
        "!pip install wordcloud #สร้างภาพคลาวด์คำ โดยภาพคลาวด์คำจะแสดงถึงความถี่ของคำที่ปรากฏในข้อความโดยให้คำที่ถี่ขึ้นมีขนาดใหญ่ขึ้น\n",
        "!pip install matplotlib #การพล็อตกราฟและแผนภูมิใน Python โดย Matplotlib\n",
        "!pip install pythainlp #ประมวลผลภาษาธรรมชาติภาษาไทยใน Python โดย PyThaiNLP\n",
        "\n",
        "#ดำเนินการดาวน์โหลดและติดตั้งฟอนต์ Sarabun\n",
        "!wget https://github.com/Phonbopit/sarabun-webfont/raw/master/fonts/thsarabunnew-webfont.ttf\n",
        "!mv thsarabunnew-webfont.ttf /usr/share/fonts/truetype\n",
        "!fc-cache -f -v"
      ],
      "metadata": {
        "colab": {
          "base_uri": "https://localhost:8080/"
        },
        "id": "jo_d6gOWaPdp",
        "outputId": "f73b8ae0-397d-43dd-82f1-d2d1e5cc1380"
      },
      "execution_count": null,
      "outputs": [
        {
          "output_type": "stream",
          "name": "stdout",
          "text": [
            "Requirement already satisfied: plotly in /usr/local/lib/python3.10/dist-packages (5.15.0)\n",
            "Requirement already satisfied: tenacity>=6.2.0 in /usr/local/lib/python3.10/dist-packages (from plotly) (8.2.3)\n",
            "Requirement already satisfied: packaging in /usr/local/lib/python3.10/dist-packages (from plotly) (24.0)\n",
            "Requirement already satisfied: wordcloud in /usr/local/lib/python3.10/dist-packages (1.9.3)\n",
            "Requirement already satisfied: numpy>=1.6.1 in /usr/local/lib/python3.10/dist-packages (from wordcloud) (1.25.2)\n",
            "Requirement already satisfied: pillow in /usr/local/lib/python3.10/dist-packages (from wordcloud) (9.4.0)\n",
            "Requirement already satisfied: matplotlib in /usr/local/lib/python3.10/dist-packages (from wordcloud) (3.7.1)\n",
            "Requirement already satisfied: contourpy>=1.0.1 in /usr/local/lib/python3.10/dist-packages (from matplotlib->wordcloud) (1.2.1)\n",
            "Requirement already satisfied: cycler>=0.10 in /usr/local/lib/python3.10/dist-packages (from matplotlib->wordcloud) (0.12.1)\n",
            "Requirement already satisfied: fonttools>=4.22.0 in /usr/local/lib/python3.10/dist-packages (from matplotlib->wordcloud) (4.51.0)\n",
            "Requirement already satisfied: kiwisolver>=1.0.1 in /usr/local/lib/python3.10/dist-packages (from matplotlib->wordcloud) (1.4.5)\n",
            "Requirement already satisfied: packaging>=20.0 in /usr/local/lib/python3.10/dist-packages (from matplotlib->wordcloud) (24.0)\n",
            "Requirement already satisfied: pyparsing>=2.3.1 in /usr/local/lib/python3.10/dist-packages (from matplotlib->wordcloud) (3.1.2)\n",
            "Requirement already satisfied: python-dateutil>=2.7 in /usr/local/lib/python3.10/dist-packages (from matplotlib->wordcloud) (2.8.2)\n",
            "Requirement already satisfied: six>=1.5 in /usr/local/lib/python3.10/dist-packages (from python-dateutil>=2.7->matplotlib->wordcloud) (1.16.0)\n",
            "Requirement already satisfied: matplotlib in /usr/local/lib/python3.10/dist-packages (3.7.1)\n",
            "Requirement already satisfied: contourpy>=1.0.1 in /usr/local/lib/python3.10/dist-packages (from matplotlib) (1.2.1)\n",
            "Requirement already satisfied: cycler>=0.10 in /usr/local/lib/python3.10/dist-packages (from matplotlib) (0.12.1)\n",
            "Requirement already satisfied: fonttools>=4.22.0 in /usr/local/lib/python3.10/dist-packages (from matplotlib) (4.51.0)\n",
            "Requirement already satisfied: kiwisolver>=1.0.1 in /usr/local/lib/python3.10/dist-packages (from matplotlib) (1.4.5)\n",
            "Requirement already satisfied: numpy>=1.20 in /usr/local/lib/python3.10/dist-packages (from matplotlib) (1.25.2)\n",
            "Requirement already satisfied: packaging>=20.0 in /usr/local/lib/python3.10/dist-packages (from matplotlib) (24.0)\n",
            "Requirement already satisfied: pillow>=6.2.0 in /usr/local/lib/python3.10/dist-packages (from matplotlib) (9.4.0)\n",
            "Requirement already satisfied: pyparsing>=2.3.1 in /usr/local/lib/python3.10/dist-packages (from matplotlib) (3.1.2)\n",
            "Requirement already satisfied: python-dateutil>=2.7 in /usr/local/lib/python3.10/dist-packages (from matplotlib) (2.8.2)\n",
            "Requirement already satisfied: six>=1.5 in /usr/local/lib/python3.10/dist-packages (from python-dateutil>=2.7->matplotlib) (1.16.0)\n",
            "Collecting pythainlp\n",
            "  Downloading pythainlp-5.0.2-py3-none-any.whl (17.9 MB)\n",
            "\u001b[2K     \u001b[90m━━━━━━━━━━━━━━━━━━━━━━━━━━━━━━━━━━━━━━━━\u001b[0m \u001b[32m17.9/17.9 MB\u001b[0m \u001b[31m47.7 MB/s\u001b[0m eta \u001b[36m0:00:00\u001b[0m\n",
            "\u001b[?25hRequirement already satisfied: requests>=2.22.0 in /usr/local/lib/python3.10/dist-packages (from pythainlp) (2.31.0)\n",
            "Requirement already satisfied: charset-normalizer<4,>=2 in /usr/local/lib/python3.10/dist-packages (from requests>=2.22.0->pythainlp) (3.3.2)\n",
            "Requirement already satisfied: idna<4,>=2.5 in /usr/local/lib/python3.10/dist-packages (from requests>=2.22.0->pythainlp) (3.6)\n",
            "Requirement already satisfied: urllib3<3,>=1.21.1 in /usr/local/lib/python3.10/dist-packages (from requests>=2.22.0->pythainlp) (2.0.7)\n",
            "Requirement already satisfied: certifi>=2017.4.17 in /usr/local/lib/python3.10/dist-packages (from requests>=2.22.0->pythainlp) (2024.2.2)\n",
            "Installing collected packages: pythainlp\n",
            "Successfully installed pythainlp-5.0.2\n",
            "--2024-04-15 00:48:40--  https://github.com/Phonbopit/sarabun-webfont/raw/master/fonts/thsarabunnew-webfont.ttf\n",
            "Resolving github.com (github.com)... 140.82.113.3\n",
            "Connecting to github.com (github.com)|140.82.113.3|:443... connected.\n",
            "HTTP request sent, awaiting response... 302 Found\n",
            "Location: https://raw.githubusercontent.com/Phonbopit/sarabun-webfont/master/fonts/thsarabunnew-webfont.ttf [following]\n",
            "--2024-04-15 00:48:40--  https://raw.githubusercontent.com/Phonbopit/sarabun-webfont/master/fonts/thsarabunnew-webfont.ttf\n",
            "Resolving raw.githubusercontent.com (raw.githubusercontent.com)... 185.199.108.133, 185.199.109.133, 185.199.110.133, ...\n",
            "Connecting to raw.githubusercontent.com (raw.githubusercontent.com)|185.199.108.133|:443... connected.\n",
            "HTTP request sent, awaiting response... 200 OK\n",
            "Length: 98308 (96K) [application/octet-stream]\n",
            "Saving to: ‘thsarabunnew-webfont.ttf’\n",
            "\n",
            "thsarabunnew-webfon 100%[===================>]  96.00K  --.-KB/s    in 0.01s   \n",
            "\n",
            "2024-04-15 00:48:40 (6.86 MB/s) - ‘thsarabunnew-webfont.ttf’ saved [98308/98308]\n",
            "\n",
            "/usr/share/fonts: caching, new cache contents: 0 fonts, 1 dirs\n",
            "/usr/share/fonts/truetype: caching, new cache contents: 1 fonts, 2 dirs\n",
            "/usr/share/fonts/truetype/humor-sans: caching, new cache contents: 1 fonts, 0 dirs\n",
            "/usr/share/fonts/truetype/liberation: caching, new cache contents: 16 fonts, 0 dirs\n",
            "/usr/local/share/fonts: caching, new cache contents: 0 fonts, 0 dirs\n",
            "/root/.local/share/fonts: skipping, no such directory\n",
            "/root/.fonts: skipping, no such directory\n",
            "/usr/share/fonts/truetype: skipping, looped directory detected\n",
            "/usr/share/fonts/truetype/humor-sans: skipping, looped directory detected\n",
            "/usr/share/fonts/truetype/liberation: skipping, looped directory detected\n",
            "/var/cache/fontconfig: cleaning cache directory\n",
            "/root/.cache/fontconfig: not cleaning non-existent cache directory\n",
            "/root/.fontconfig: not cleaning non-existent cache directory\n",
            "fc-cache: succeeded\n",
            "Collecting pyecharts\n",
            "  Downloading pyecharts-2.0.5-py3-none-any.whl (146 kB)\n",
            "\u001b[2K     \u001b[90m━━━━━━━━━━━━━━━━━━━━━━━━━━━━━━━━━━━━━━━━\u001b[0m \u001b[32m146.3/146.3 kB\u001b[0m \u001b[31m1.7 MB/s\u001b[0m eta \u001b[36m0:00:00\u001b[0m\n",
            "\u001b[?25hRequirement already satisfied: jinja2 in /usr/local/lib/python3.10/dist-packages (from pyecharts) (3.1.3)\n",
            "Requirement already satisfied: prettytable in /usr/local/lib/python3.10/dist-packages (from pyecharts) (3.10.0)\n",
            "Collecting simplejson (from pyecharts)\n",
            "  Downloading simplejson-3.19.2-cp310-cp310-manylinux_2_5_x86_64.manylinux1_x86_64.manylinux_2_17_x86_64.manylinux2014_x86_64.whl (137 kB)\n",
            "\u001b[2K     \u001b[90m━━━━━━━━━━━━━━━━━━━━━━━━━━━━━━━━━━━━━━━━\u001b[0m \u001b[32m137.9/137.9 kB\u001b[0m \u001b[31m13.1 MB/s\u001b[0m eta \u001b[36m0:00:00\u001b[0m\n",
            "\u001b[?25hRequirement already satisfied: MarkupSafe>=2.0 in /usr/local/lib/python3.10/dist-packages (from jinja2->pyecharts) (2.1.5)\n",
            "Requirement already satisfied: wcwidth in /usr/local/lib/python3.10/dist-packages (from prettytable->pyecharts) (0.2.13)\n",
            "Installing collected packages: simplejson, pyecharts\n",
            "Successfully installed pyecharts-2.0.5 simplejson-3.19.2\n"
          ]
        }
      ]
    },
    {
      "cell_type": "code",
      "execution_count": null,
      "metadata": {
        "id": "PDwWMCddSKkS"
      },
      "outputs": [],
      "source": [
        "from google.colab import drive #เพื่อทำการเชื่อมต่อกับ Google Drive เพื่อเข้าถึงไฟล์และโฟลเดอร์บน Google Drive\n",
        "import pandas as pd #เพื่อให้สามารถเรียกใช้ฟังก์ชันและเมธอดใน pandas\n",
        "import plotly.express as px #เพื่อให้สามารถเรียกใช้ฟังก์ชันและเมธอดใน plotly express\n",
        "import plotly.graph_objects as go #เพื่อให้สามารถเรียกใช้ฟังก์ชันและเมธอดใน plotly graph_objects\n",
        "from wordcloud import WordCloud, STOPWORDS #ใช้ในการ import คลาส WordCloud และ STOPWORDS จากแพ็กเกจ wordcloud เพื่อสร้างภาพคลาวด์คำ\n",
        "\n",
        "import matplotlib as mpl #เพื่อให้สามารถเรียกใช้ฟังก์ชันและเมธอดใน matplotlib\n",
        "import matplotlib.font_manager as fm #เพื่อจัดการฟอนต์\n",
        "import matplotlib.pyplot as plt #เพื่อสร้างกราฟและแผนภูมิ\n",
        "\n",
        "import plotly.figure_factory as ff\n",
        "import numpy as np\n",
        "\n",
        "from pythainlp.tokenize import word_tokenize # เพื่อทำการตัดคำในภาษาไทย\n",
        "from pythainlp.corpus import thai_stopwords # เพื่อใช้ในการกรองคำที่ไม่จำเป็นออกจากข้อความภาษาไทย"
      ]
    },
    {
      "cell_type": "code",
      "source": [
        "drive.mount('/content/drive')#เชื่อมต่อ Google Drive กับ Colab Notebook เพื่อให้สามารถเข้าถึงไฟล์และโฟลเดอร์บน Google Drive ได้ภายใน Colab Notebook"
      ],
      "metadata": {
        "id": "hBP6NYhNVUrb"
      },
      "execution_count": null,
      "outputs": []
    },
    {
      "cell_type": "code",
      "source": [
        "#เชื่อมต่อ Google Drive กับ Colab Notebook เพื่อให้สามารถเข้าถึงไฟล์และโฟลเดอร์บน Google Drive ได้ภายใน Colab Notebook\n",
        "csv_path = \"/content/drive/MyDrive/cs246/formData/formData.csv\" #@param{type:\"string\"}\n",
        "original = pd.read_csv(csv_path)"
      ],
      "metadata": {
        "id": "14uRxmU_WC2q"
      },
      "execution_count": null,
      "outputs": []
    },
    {
      "cell_type": "code",
      "source": [
        "original"
      ],
      "metadata": {
        "id": "Cv-y9VfyAG_k"
      },
      "execution_count": null,
      "outputs": []
    },
    {
      "cell_type": "markdown",
      "source": [
        "# visualize"
      ],
      "metadata": {
        "id": "UARtigWfbLfr"
      }
    },
    {
      "cell_type": "markdown",
      "source": [
        "## 1. basic info"
      ],
      "metadata": {
        "id": "g0ScYyKlIS1z"
      }
    },
    {
      "cell_type": "code",
      "source": [
        "#การสร้างตัวแปรเพื่อเก็บข้อมูลที่ได้มาจากคอลัมน์ต่าง ๆ ใน DataFrame original\n",
        "sex_data = original['เพศกำเนิดของท่านคือเพศอะไร']\n",
        "age_data = original['ท่านอยู่ในช่วงอายุใด']\n",
        "fac_data = original['ท่านศึกษาอยู่คณะอะไร']\n",
        "year_data = original['รหัสนักศึกษา 2 ตำแหน่งแรกของท่าน']\n",
        "income_data = original['รายได้ที่ท่านได้รับต่อเดือน']"
      ],
      "metadata": {
        "id": "mmiTSh7tIalq"
      },
      "execution_count": null,
      "outputs": []
    },
    {
      "cell_type": "code",
      "source": [
        "sex_data.value_counts().to_frame().to_dict()"
      ],
      "metadata": {
        "id": "AVCqmaNsbxwN"
      },
      "execution_count": null,
      "outputs": []
    },
    {
      "cell_type": "code",
      "source": [
        "SAMPLE_COUNT = len(original)\n",
        "SAMPLE_COUNT"
      ],
      "metadata": {
        "id": "f-J8y0CyhnR8"
      },
      "execution_count": null,
      "outputs": []
    },
    {
      "cell_type": "markdown",
      "source": [
        "### sex"
      ],
      "metadata": {
        "id": "Es70jnf8LXa7"
      }
    },
    {
      "cell_type": "code",
      "source": [
        "#การนับจำนวนข้อมูลแต่ละค่าในตัวแปร sex_data และสร้าง DataFrame ใหม่ที่ประกอบด้วยคอลัมน์ 'sex' และ 'count' ซึ่งแสดงจำนวนข้อมูลแต่ละค่าและค่านั้นๆ\n",
        "sex_df = pd.DataFrame(sex_data.value_counts().to_frame().to_dict()).reset_index()\n",
        "sex_df.rename(columns = {0:'count'}, inplace = True)\n",
        "sex_df.rename(columns = {'index':'sex'}, inplace = True)"
      ],
      "metadata": {
        "id": "6nrJyi3BG_PN"
      },
      "execution_count": null,
      "outputs": []
    },
    {
      "cell_type": "code",
      "source": [
        "sex_df"
      ],
      "metadata": {
        "id": "v-Ir79KYTchM"
      },
      "execution_count": null,
      "outputs": []
    },
    {
      "cell_type": "code",
      "source": [
        "#เเต่งเพศ\n",
        "sex_fig = px.pie(sex_df, values='count', names='sex')\n",
        "# กำหนดชื่อและขนาดฟอนต์ของ title\n",
        "sex_fig.update_layout(title='เพศ', title_font=dict(size=20))\n",
        "# กำหนดขนาดของเส้นกรอบ\n",
        "sex_fig.update_traces(marker=dict(line=dict(width=2)))\n",
        "# กำหนดขนาดของแต่ละข้อมูลใน Pie chart\n",
        "sex_fig.update_traces(textfont_size=14)\n",
        "# กำหนดพื้นหลังเป็นสีขาว\n",
        "sex_fig.update_layout(plot_bgcolor='white')\n",
        "\n",
        "sex_fig.show()"
      ],
      "metadata": {
        "id": "AqcAVQ9tS-26"
      },
      "execution_count": null,
      "outputs": []
    },
    {
      "cell_type": "markdown",
      "source": [
        "### age"
      ],
      "metadata": {
        "id": "bNdR33HwZs2w"
      }
    },
    {
      "cell_type": "code",
      "source": [
        "#การนับจำนวนข้อมูลแต่ละค่าในตัวแปร age_data และสร้าง DataFrame ใหม่ที่ประกอบด้วยคอลัมน์ 'age' และ 'count' ซึ่งแสดงจำนวนข้อมูลแต่ละค่าและค่านั้นๆ\n",
        "age_df = pd.DataFrame(age_data.value_counts().to_frame().to_dict()).reset_index()\n",
        "age_df.rename(columns = {0:'count'}, inplace = True)\n",
        "age_df.rename(columns = {'index':'age'}, inplace = True)"
      ],
      "metadata": {
        "id": "wKTY-qN-Z7fI"
      },
      "execution_count": null,
      "outputs": []
    },
    {
      "cell_type": "code",
      "source": [
        "age_df"
      ],
      "metadata": {
        "id": "i8DA2inXaHAo"
      },
      "execution_count": null,
      "outputs": []
    },
    {
      "cell_type": "code",
      "source": [
        "#เเต่งอายุ\n",
        "age_fig = px.pie(age_df, values='count',names='age', hole=0.4)\n",
        "age_fig.update_layout(title='ช่วงอายุ', title_font=dict(size=20))\n",
        "age_fig.update_traces(marker=dict(line=dict(width=2)))\n",
        "age_fig.update_traces(textfont_size=14)\n",
        "age_fig.update_layout(plot_bgcolor='white')\n",
        "age_fig.show()"
      ],
      "metadata": {
        "id": "lTpaDU75K-5r"
      },
      "execution_count": null,
      "outputs": []
    },
    {
      "cell_type": "markdown",
      "source": [
        "### faculty"
      ],
      "metadata": {
        "id": "8TIFX2qvLYWR"
      }
    },
    {
      "cell_type": "code",
      "source": [
        "def get_unique_values_faculty(df, column_name, sex_column):\n",
        "    # Split the comma-separated values and create a list\n",
        "    values_list = df[column_name].str.split(',').explode().str.strip().tolist()\n",
        "\n",
        "    # Create a DataFrame with values and corresponding sex\n",
        "    value_sex_df = pd.DataFrame({column_name: values_list, sex_column: df[sex_column].repeat(df[column_name].str.count(',') + 1).values})\n",
        "\n",
        "    # Group by value and sex, count occurrences, and unstack to pivot\n",
        "    grouped_df = value_sex_df.groupby([column_name, sex_column]).size().unstack(fill_value=0)\n",
        "\n",
        "    # Count unique values and create DataFrame\n",
        "    unique_count_df = pd.DataFrame({'Count': value_sex_df[column_name].value_counts()})\n",
        "    unique_count_df.index.name = 'fac'\n",
        "\n",
        "    # Merge counts with grouped_df\n",
        "    unique_count_df = unique_count_df.merge(grouped_df, how='left', left_index=True, right_index=True)\n",
        "\n",
        "    # Create DataFrame with unique values\n",
        "    unique_values_df = pd.DataFrame(pd.Series(values_list).unique(), columns=['Value'])\n",
        "\n",
        "    return unique_count_df\n",
        "#การนับจำนวนข้อมูลแต่ละค่าในตัวแปร fac_data และสร้าง DataFrame ใหม่ที่ประกอบด้วยคอลัมน์ 'fac' และ 'count' ซึ่งแสดงจำนวนข้อมูลแต่ละค่าและค่านั้นๆ\n",
        "faculty_data = fac_data.to_frame()\n",
        "faculty_data['sex'] = sex_data\n",
        "fac_df = get_unique_values_faculty(faculty_data, 'ท่านศึกษาอยู่คณะอะไร', 'sex').reset_index()\n",
        "# fac_df.rename(columns = {0:'count'}, inplace = True)\n",
        "# fac_df.rename(columns = {'index':'fac'}, inplace = True)\n",
        "\n",
        "# #ปรับคณะให้เรียงจากมากไปน้อย\n",
        "# fac_df = fac_df.sort_values(by='count', ascending=False)"
      ],
      "metadata": {
        "id": "3DHxE-rgLdGb"
      },
      "execution_count": null,
      "outputs": []
    },
    {
      "cell_type": "code",
      "source": [
        "fac_data"
      ],
      "metadata": {
        "id": "__WyHGMJNHxy"
      },
      "execution_count": null,
      "outputs": []
    },
    {
      "cell_type": "code",
      "source": [
        "fac_fig = go.Figure(data=[\n",
        "    go.Bar(name='ชาย', x=fac_df['fac'], y=fac_df['ชาย']),\n",
        "    go.Bar(name='หญิง', x=fac_df['fac'], y=fac_df['หญิง'])\n",
        "])"
      ],
      "metadata": {
        "id": "wOrw186JPkVt"
      },
      "execution_count": null,
      "outputs": []
    },
    {
      "cell_type": "code",
      "source": [
        "fac_fig.update_layout(title='คณะ')\n",
        "fac_fig.update_layout(barmode='stack')\n",
        "fac_fig.show()"
      ],
      "metadata": {
        "id": "aKa6bfigP5fe"
      },
      "execution_count": null,
      "outputs": []
    },
    {
      "cell_type": "markdown",
      "source": [
        "### year"
      ],
      "metadata": {
        "id": "pDoS9mkFQZeo"
      }
    },
    {
      "cell_type": "code",
      "source": [
        "#การนับจำนวนข้อมูลแต่ละค่าในตัวแปร year_data และสร้าง DataFrame ใหม่ที่ประกอบด้วยคอลัมน์ 'year' และ 'count' ซึ่งแสดงจำนวนข้อมูลแต่ละค่าและค่านั้นๆ\n",
        "year_df = pd.DataFrame(year_data.value_counts().to_frame().to_dict()).reset_index()\n",
        "year_df.rename(columns = {0:'count'}, inplace = True)\n",
        "year_df.rename(columns = {'index':'year'}, inplace = True)"
      ],
      "metadata": {
        "id": "AbbypoHTQe3A"
      },
      "execution_count": null,
      "outputs": []
    },
    {
      "cell_type": "code",
      "source": [
        "year_df"
      ],
      "metadata": {
        "id": "hmVD5d09eXaq"
      },
      "execution_count": null,
      "outputs": []
    },
    {
      "cell_type": "code",
      "source": [
        "#ทำหน้าที่แปลงปีในคอลัมน์ 'year' ใน DataFrame year_df ให้เป็นปีการศึกษาและเก็บผลลัพธ์ในคอลัมน์ใหม่ 'acadm_year' โดยใช้ฟังก์ชัน yearToAcademicYear\n",
        "def yearToAcademicYear(year):\n",
        "  return 'ปี {}'.format(67 - year)\n",
        "\n",
        "year_df['acadm_year'] = list(map(yearToAcademicYear,year_df.year))"
      ],
      "metadata": {
        "id": "ba2iEkuMSswW"
      },
      "execution_count": null,
      "outputs": []
    },
    {
      "cell_type": "code",
      "source": [
        "year_df"
      ],
      "metadata": {
        "id": "Q0RgkC_pQyux"
      },
      "execution_count": null,
      "outputs": []
    },
    {
      "cell_type": "code",
      "source": [
        "#เเต่งปี\n",
        "# สร้าง Pie chart โดยใช้ข้อมูลจาก year_df\n",
        "year_fig = go.Figure(go.Pie(\n",
        "    labels=year_df['acadm_year'],\n",
        "    values=year_df['count'],\n",
        "    hole=0.4  # กำหนดขนาดของรูปโดนัท\n",
        "))\n",
        "\n",
        "# กำหนดรายละเอียดของ layout\n",
        "year_fig.update_layout(title='ชั้นปี')\n",
        "\n",
        "# แสดง Pie chart\n",
        "year_fig.show()"
      ],
      "metadata": {
        "id": "CVY2GbsrRo9-"
      },
      "execution_count": null,
      "outputs": []
    },
    {
      "cell_type": "markdown",
      "source": [
        "### income per month"
      ],
      "metadata": {
        "id": "l13xu30bba2B"
      }
    },
    {
      "cell_type": "code",
      "source": [
        "#นับความถี่ของข้อมูลใน Series income_data แล้วแปลงผลลัพธ์ให้กลายเป็น DataFrame โดยมีคอลัมน์ 'income' เก็บค่าข้อมูลและคอลัมน์ 'count' เก็บจำนวนครั้งที่ค่านั้นปรากฏ\n",
        "income_df = pd.DataFrame(income_data.value_counts().to_frame().to_dict()).reset_index()\n",
        "income_df.rename(columns = {0:'count'}, inplace = True)\n",
        "income_df.rename(columns = {'index':'income'}, inplace = True)\n",
        "\n",
        "def sortingIncome(name):\n",
        "  match(name):\n",
        "    case 'ต่ำกว่า 3,000 บาท':\n",
        "      return 0\n",
        "    case '3,000 - 5,000 บาท':\n",
        "      return 1\n",
        "    case '5,001 - 7,000 บาท':\n",
        "      return 2\n",
        "    case '7,001 - 9,000 บาท':\n",
        "      return 3\n",
        "    case 'มากกว่า 9,000 บาท':\n",
        "      return 4\n",
        "    case _:\n",
        "      return -1\n",
        "\n",
        "income_df['ordering'] = list(map(sortingIncome, income_df['income']))\n",
        "\n",
        "income_df = income_df.sort_values(by='ordering')"
      ],
      "metadata": {
        "id": "HZSJKnD5biaN"
      },
      "execution_count": null,
      "outputs": []
    },
    {
      "cell_type": "code",
      "source": [
        "income_df"
      ],
      "metadata": {
        "id": "f5Sx0VJScfA8"
      },
      "execution_count": null,
      "outputs": []
    },
    {
      "cell_type": "code",
      "source": [
        "# สร้างกราฟแท่งโดยใช้ข้อมูลจาก income_df_sorted\n",
        "income_fig = go.Figure(go.Bar(\n",
        "    x=income_df['count'].tolist(),\n",
        "    y=income_df['income'].tolist(),\n",
        "    orientation='h',\n",
        "    marker=dict(color = income_df['count'].tolist(),\n",
        "                colorscale='viridis')\n",
        "))\n"
      ],
      "metadata": {
        "id": "Lqx5efc5cqTX"
      },
      "execution_count": null,
      "outputs": []
    },
    {
      "cell_type": "code",
      "source": [
        "# กำหนดรายละเอียดของ layout\n",
        "income_fig.update_layout(title='รายได้ต่อเดือน')\n",
        "income_fig.update_yaxes(autorange=\"reversed\").show()"
      ],
      "metadata": {
        "id": "PwE3trRqcvSd"
      },
      "execution_count": null,
      "outputs": []
    },
    {
      "cell_type": "markdown",
      "source": [
        "## 2. meal per day"
      ],
      "metadata": {
        "id": "L1bGWJ63QlDO"
      }
    },
    {
      "cell_type": "code",
      "source": [
        "mpd_data = original['1. ในหนึ่งวันท่านรับประทานอาหารมื้อใดบ้าง']"
      ],
      "metadata": {
        "id": "UanelR5oQ0G7"
      },
      "execution_count": null,
      "outputs": []
    },
    {
      "cell_type": "code",
      "source": [
        "mpd_df = mpd_data.to_frame().reset_index(drop=True)\n",
        "mpd_df.rename(columns = {'1. ในหนึ่งวันท่านรับประทานอาหารมื้อใดบ้าง':'meal'}, inplace = True)"
      ],
      "metadata": {
        "id": "qcS2J7eKRfJv"
      },
      "execution_count": null,
      "outputs": []
    },
    {
      "cell_type": "code",
      "source": [
        "mpd_df"
      ],
      "metadata": {
        "id": "If1bMMqj4pSq"
      },
      "execution_count": null,
      "outputs": []
    },
    {
      "cell_type": "markdown",
      "source": [
        "### 2.2 meal freq per day"
      ],
      "metadata": {
        "id": "Rv2AlPvqmN7W"
      }
    },
    {
      "cell_type": "code",
      "source": [
        "#how many meal people eat each day\n",
        "def mealCount(commaSeperatedValue):\n",
        "  return str(commaSeperatedValue.count(',') + 1) + ' มื้อ'\n",
        "\n",
        "mpd_df['meal count'] = list(map(mealCount, mpd_df.meal))"
      ],
      "metadata": {
        "id": "jBrnE7z3WkIp"
      },
      "execution_count": null,
      "outputs": []
    },
    {
      "cell_type": "code",
      "source": [
        "mealCount_dat = mpd_df['meal count'].value_counts()\n",
        "mealCount_df = pd.DataFrame(mealCount_dat.values, mealCount_dat.axes).reset_index()\n",
        "mealCount_df.rename(columns = {'meal count':'meal'}, inplace = True)\n",
        "mealCount_df.rename(columns = {0:'count'}, inplace = True)\n",
        "mealCount_df"
      ],
      "metadata": {
        "id": "q-x-AguuVA8k"
      },
      "execution_count": null,
      "outputs": []
    },
    {
      "cell_type": "code",
      "source": [
        "mealCount_fig  = go.Figure(go.Bar(\n",
        "    x=mealCount_df['meal'].tolist(),\n",
        "    y=mealCount_df['count'].tolist(),\n",
        "    marker=dict(color = mealCount_df['count'].tolist(),\n",
        "                colorscale='viridis')\n",
        "))\n",
        "mealCount_fig = mealCount_fig.update_layout(title='จำนวนมื้ออาหารที่กินต่อวัน')\n",
        "mealCount_fig.show()"
      ],
      "metadata": {
        "id": "PLYEUmHEjjwu"
      },
      "execution_count": null,
      "outputs": []
    },
    {
      "cell_type": "markdown",
      "source": [
        "### 2.3 what meal each day"
      ],
      "metadata": {
        "id": "KtkXANQEmRtx"
      }
    },
    {
      "cell_type": "code",
      "source": [
        "#นับความถี่ของค่าที่ปรากฏในคอลัมน์ 'meal' ใน DataFrame mpd_df แล้วแปลงผลลัพธ์ให้กลายเป็น DataFrame โดยมีคอลัมน์ 'meal_freq' เก็บค่าข้อมูลและคอลัมน์ 'count' เก็บจำนวนครั้งที่ค่านั้นปรากฏ\n",
        "mpdFreq_dat = mpd_df['meal'].value_counts()\n",
        "mpdFreq_df = pd.DataFrame(mpdFreq_dat.values, mpdFreq_dat.axes).reset_index()\n",
        "mpdFreq_df.rename(columns = {'meal':'meal_freq'}, inplace = True)\n",
        "mpdFreq_df.rename(columns = {0:'count'}, inplace = True)\n",
        "mpdFreq_df"
      ],
      "metadata": {
        "id": "yIz2lCcMg9WY"
      },
      "execution_count": null,
      "outputs": []
    },
    {
      "cell_type": "code",
      "source": [
        "mealFreq_fig = go.Figure(go.Bar(\n",
        "    x=mpdFreq_df['count'].tolist(),\n",
        "    y=mpdFreq_df['meal_freq'].tolist(),\n",
        "    orientation='h',\n",
        "    marker=dict(color = mpdFreq_df['count'].tolist(),\n",
        "                colorscale='viridis')\n",
        "))\n",
        "\n",
        "mealFreq_fig = mealFreq_fig.update_layout(title='มื้ออาหารที่กินใน 1 วัน')"
      ],
      "metadata": {
        "id": "V0b79w3dYKoV"
      },
      "execution_count": null,
      "outputs": []
    },
    {
      "cell_type": "code",
      "source": [
        "mealFreq_fig.update_yaxes(autorange=\"reversed\").show()"
      ],
      "metadata": {
        "id": "D_KIJrAojCPR"
      },
      "execution_count": null,
      "outputs": []
    },
    {
      "cell_type": "code",
      "source": [
        "def get_unique_values_meal(df, column_name):\n",
        "    # Split the comma-separated values and create a list\n",
        "    values_list = df[column_name].str.split(',').explode().str.strip().tolist()\n",
        "\n",
        "    # Calculate unique value counts\n",
        "    unique_counts = pd.Series(values_list).value_counts()\n",
        "\n",
        "    # Create a dataframe with unique value counts and unique values\n",
        "    result_df = pd.DataFrame({'Unique_Value': unique_counts.index, 'Count': unique_counts.values})\n",
        "\n",
        "    return result_df\n",
        "\n",
        "def orderingMeal(word):\n",
        "  match word:\n",
        "    case 'มื้อเช้า':\n",
        "      return 0\n",
        "    case 'มื้อกลางวัน':\n",
        "      return 1\n",
        "    case 'มื้อเย็น':\n",
        "      return 2\n",
        "    case 'มื้อดึก':\n",
        "      return 3\n",
        "    case _:\n",
        "      return -1;\n",
        "\n",
        "meal_unique = get_unique_values_meal(mpd_df, 'meal')\n",
        "meal_unique['mealOrder'] = list(map(orderingMeal,meal_unique.Unique_Value))\n",
        "meal_unique = meal_unique.sort_values(by=['mealOrder'])"
      ],
      "metadata": {
        "id": "BnkcFdMuZSD6"
      },
      "execution_count": null,
      "outputs": []
    },
    {
      "cell_type": "code",
      "source": [
        "# Create figure\n",
        "meal_unique_fig = go.Figure()\n",
        "\n",
        "# Add trace\n",
        "meal_unique_fig.add_trace(\n",
        "    go.Bar(x=meal_unique.Unique_Value, y=meal_unique.Count\n",
        "           ,marker=dict(color = mpdFreq_df['count'].tolist()\n",
        "              ,colorscale='viridis'))\n",
        ")\n",
        "# Set templates\n",
        "meal_unique_fig.update_layout(template=\"plotly_white\")\n",
        "\n",
        "meal_unique_fig.show()"
      ],
      "metadata": {
        "id": "H8qVlY6mhENi"
      },
      "execution_count": null,
      "outputs": []
    },
    {
      "cell_type": "markdown",
      "source": [
        "## 3. how much spent for each meal"
      ],
      "metadata": {
        "id": "D9VcBGtc_BWK"
      }
    },
    {
      "cell_type": "code",
      "source": [
        "spending_data = original['2. ค่าใช้จ่ายต่ออาหารหนึ่งมื้อ (รวมเครื่องดื่ม และอื่นๆ)']"
      ],
      "metadata": {
        "id": "u-kSQbj9_Gq7"
      },
      "execution_count": null,
      "outputs": []
    },
    {
      "cell_type": "code",
      "source": [
        "#นับความถี่ของค่าใช้จ่ายต่ออาหารหนึ่งมื้อ (รวมเครื่องดื่มและอื่นๆ) แล้วแปลงผลลัพธ์ให้เป็น DataFrame โดยมีคอลัมน์ 'ค่าใช้จ่าย' เก็บค่าข้อมูลและคอลัมน์ 'จำนวนคน' เก็บจำนวนครั้งที่ค่านั้นปรากฏ\n",
        "spending_data = pd.DataFrame({'ค่าใช้จ่าย':spending_data})\n",
        "spending_data = spending_data.value_counts().to_frame().reset_index()\n",
        "spending_data.rename(columns={'count':'จำนวนคน'}, inplace=True)"
      ],
      "metadata": {
        "id": "EicoEHgbOcOe"
      },
      "execution_count": null,
      "outputs": []
    },
    {
      "cell_type": "code",
      "source": [
        "#เพิ่มคอลัมน์ 'ordering' เข้าไปใน DataFrame spending_data เพื่อเก็บค่าที่เปลี่ยนแปลงจากข้อความในคอลัมน์ 'ค่าใช้จ่าย' เป็นตัวเลขตามลำดับที่กำหนด และจัดเรียงข้อมูลใหม่ตามลำดับที่กำหนดด้วยคอลัมน์ 'ordering'\n",
        "def orderingSpending(word):\n",
        "  match word:\n",
        "    case 'ต่ำกวา 30 บาท':\n",
        "      return 0\n",
        "    case '30 - 50 บาท':\n",
        "      return 1\n",
        "    case '51 - 100 บาท':\n",
        "      return 2\n",
        "    case '101 - 200 บาท':\n",
        "      return 3\n",
        "    case 'มากกว่า 200 บาท':\n",
        "      return 4\n",
        "    case _:\n",
        "      return -1;\n",
        "\n",
        "spending_data['ordering'] = list(map(orderingSpending, spending_data['ค่าใช้จ่าย']))\n",
        "spending_data = spending_data.sort_values('ordering').reset_index(drop=True)\n"
      ],
      "metadata": {
        "id": "6bMjyFTzLDIT"
      },
      "execution_count": null,
      "outputs": []
    },
    {
      "cell_type": "code",
      "source": [
        "spending_data"
      ],
      "metadata": {
        "id": "NmRxUgM3RJ19"
      },
      "execution_count": null,
      "outputs": []
    },
    {
      "cell_type": "code",
      "source": [
        "spending_fig = px.line(spending_data, x=\"ค่าใช้จ่าย\", y=\"จำนวนคน\", title='ค่าใช้จ่ายต่อมื้อ')\n",
        "spending_fig.show()"
      ],
      "metadata": {
        "id": "XKlvpmvBQFir"
      },
      "execution_count": null,
      "outputs": []
    },
    {
      "cell_type": "markdown",
      "source": [
        "## 4. most popular canteen"
      ],
      "metadata": {
        "id": "K6KqMm8FbYNv"
      }
    },
    {
      "cell_type": "code",
      "source": [
        "canteen_counts = original['10. โรงอาหารใดในมหาวิทยาลัยธรรมศาสตร์ที่ท่านไปรับประทานบ่อยที่สุด'].value_counts()"
      ],
      "metadata": {
        "id": "_Ju3py-Sia0q"
      },
      "execution_count": null,
      "outputs": []
    },
    {
      "cell_type": "code",
      "source": [
        "canteen_Y = canteen_counts.axes[0].tolist()"
      ],
      "metadata": {
        "id": "dh-MoQl3kCcV"
      },
      "execution_count": null,
      "outputs": []
    },
    {
      "cell_type": "code",
      "source": [
        "canteen_X = canteen_counts.values.tolist()"
      ],
      "metadata": {
        "id": "c1Ao0Ujmk-nE"
      },
      "execution_count": null,
      "outputs": []
    },
    {
      "cell_type": "code",
      "source": [
        "def get_unique_values_faculty_canteen(df, column_name, sex_column):\n",
        "    # Split the comma-separated values and create a list\n",
        "    values_list = df[column_name].str.split(',').explode().str.strip().tolist()\n",
        "\n",
        "    # Create a DataFrame with values and corresponding sex\n",
        "    value_sex_df = pd.DataFrame({column_name: values_list, sex_column: df[sex_column].repeat(df[column_name].str.count(',') + 1).values})\n",
        "\n",
        "    # Group by value and sex, count occurrences, and unstack to pivot\n",
        "    grouped_df = value_sex_df.groupby([column_name, sex_column]).size().unstack(fill_value=0)\n",
        "\n",
        "    # Count unique values and create DataFrame\n",
        "    unique_count_df = pd.DataFrame({'Count': value_sex_df[column_name].value_counts()})\n",
        "    unique_count_df.index.name = 'canteen'\n",
        "\n",
        "    # Merge counts with grouped_df\n",
        "    unique_count_df = unique_count_df.merge(grouped_df, how='left', left_index=True, right_index=True)\n",
        "\n",
        "    # Create DataFrame with unique values\n",
        "    unique_values_df = pd.DataFrame(pd.Series(values_list).unique(), columns=['Value'])\n",
        "\n",
        "    return unique_count_df"
      ],
      "metadata": {
        "id": "VF9BO_RZtDP_"
      },
      "execution_count": null,
      "outputs": []
    },
    {
      "cell_type": "code",
      "source": [
        "canteen_fac_df = original['10. โรงอาหารใดในมหาวิทยาลัยธรรมศาสตร์ที่ท่านไปรับประทานบ่อยที่สุด'].to_frame()\n",
        "canteen_fac_df['fac'] = fac_data\n",
        "canteen_fac_df = canteen_fac_df.rename(columns={'10. โรงอาหารใดในมหาวิทยาลัยธรรมศาสตร์ที่ท่านไปรับประทานบ่อยที่สุด':'canteen'}).reset_index(drop=True)"
      ],
      "metadata": {
        "id": "E60i6rxcsBTu"
      },
      "execution_count": null,
      "outputs": []
    },
    {
      "cell_type": "code",
      "source": [
        "canteen_fac_df = get_unique_values_faculty_canteen(canteen_fac_df, 'canteen', 'fac').reset_index()"
      ],
      "metadata": {
        "id": "C_VaauSttkZ_"
      },
      "execution_count": null,
      "outputs": []
    },
    {
      "cell_type": "code",
      "source": [
        "canteen_fac_df"
      ],
      "metadata": {
        "id": "p0gLFq66sz3k"
      },
      "execution_count": null,
      "outputs": []
    },
    {
      "cell_type": "code",
      "source": [
        "canteen_fig = go.Figure(data=[\n",
        "    go.Bar(name='คณะวิทยาศาสตร์ และเทคโนโลยี', x=canteen_fac_df['canteen'], y=canteen_fac_df['คณะวิทยาศาสตร์ และเทคโนโลยี']),\n",
        "    go.Bar(name='คณะพาณิชยศาสตร์ และการบัญชี \t', x=canteen_fac_df['canteen'], y=canteen_fac_df['คณะพาณิชยศาสตร์ และการบัญชี']),\n",
        "    go.Bar(name='คณะวิทยาการเรียนรู้ และศึกษาศาสตร์', x=canteen_fac_df['canteen'], y=canteen_fac_df['คณะวิทยาการเรียนรู้ และศึกษาศาสตร์']),\n",
        "    go.Bar(name='สถาบันเทคโนโลยีนานาชาติสิรินธร', x=canteen_fac_df['canteen'], y=canteen_fac_df['สถาบันเทคโนโลยีนานาชาติสิรินธร']),\n",
        "    go.Bar(name='คณะสังคมวิทยา และมานุษยวิทยา', x=canteen_fac_df['canteen'], y=canteen_fac_df['คณะสังคมวิทยา และมานุษยวิทยา']),\n",
        "    go.Bar(name='คณะศิลปศาสตร์', x=canteen_fac_df['canteen'], y=canteen_fac_df['คณะศิลปศาสตร์']),\n",
        "    go.Bar(name='คณะเศรษฐศาสตร์', x=canteen_fac_df['canteen'], y=canteen_fac_df['คณะเศรษฐศาสตร์']),\n",
        "    go.Bar(name='คณะวิศวกรรมศาสตร์', x=canteen_fac_df['canteen'], y=canteen_fac_df['คณะวิศวกรรมศาสตร์'])\n",
        "])\n",
        "canteen_fig.update_layout(title='โรงอาหารที่คนไปมากที่สุด')\n",
        "canteen_fig.update_layout(barmode='stack')\n",
        "canteen_fig.update_layout(\n",
        "    autosize=False,\n",
        "    width=1500,\n",
        "    height=1000)\n",
        "canteen_fig.show()"
      ],
      "metadata": {
        "id": "GxUJF2eSlF-d"
      },
      "execution_count": null,
      "outputs": []
    },
    {
      "cell_type": "code",
      "source": [
        "canteen_df = pd.DataFrame({'canteen':tuple(canteen_Y), 'count': tuple(canteen_X)})\n",
        "\n",
        "'''\n",
        "            la                   lo\n",
        "โรงอาหารวิทย์ 14.072821539465128, 100.60798036042429\n",
        "green canteen 14.073301191696972, 100.60113848590765\n",
        "sc 14.069680482331574, 100.60453738445628\n",
        "ทิวสน 14.076260620240626, 100.5955211538688\n",
        "วิศวะ 14.069583013488623, 100.60722305366167\n",
        "jc 14.069210281008967, 100.6046831286727\n",
        "รพธ 14.073631524882678, 100.61530528501365\n",
        "สถาปัตย์ 14.068159421737926, 100.60868638198609\n",
        "สุขศาสตร์\n",
        "'''\n",
        "\n",
        "canteen_df['la'] = 0\n",
        "canteen_df['lo'] = 0\n",
        "canteen_df.loc[canteen_df['canteen'] == 'โรงอาหารคณะวิทย์','la'] = 14.072821539465128\n",
        "canteen_df.loc[canteen_df['canteen'] == 'โรงอาหารคณะวิทย์','lo'] = 100.60798036042429\n",
        "canteen_df.loc[canteen_df['canteen'] == 'โรงอาหาร Green Canteen','la'] = 14.073301191696972\n",
        "canteen_df.loc[canteen_df['canteen'] == 'โรงอาหาร Green Canteen','lo'] = 100.60113848590765\n",
        "canteen_df.loc[canteen_df['canteen'] == 'โรงอาหาร SC','la'] = 14.069680482331574\n",
        "canteen_df.loc[canteen_df['canteen'] == 'โรงอาหาร SC','lo'] = 100.60453738445628\n",
        "canteen_df.loc[canteen_df['canteen'] == 'โรงอาหารทิวสนโดม','la'] = 14.076260620240626\n",
        "canteen_df.loc[canteen_df['canteen'] == 'โรงอาหารทิวสนโดม','lo'] = 100.5955211538688\n",
        "canteen_df.loc[canteen_df['canteen'] == 'โรงอาหารคณะวิศวะฯ','la'] =  14.069583013488623\n",
        "canteen_df.loc[canteen_df['canteen'] == 'โรงอาหารคณะวิศวะฯ','lo'] = 100.60722305366167\n",
        "canteen_df.loc[canteen_df['canteen'] == 'โรงอาหารในโรงพยาบาล มธ','la'] = 14.073631524882678\n",
        "canteen_df.loc[canteen_df['canteen'] == 'โรงอาหารในโรงพยาบาล มธ','lo'] = 100.61530528501365\n",
        "canteen_df.loc[canteen_df['canteen'] == 'โรงอาหารคณะสถาปัตย์','la'] = 14.068159421737926\n",
        "canteen_df.loc[canteen_df['canteen'] == 'โรงอาหารคณะสถาปัตย์','lo'] = 100.60868638198609\n",
        "canteen_df.loc[canteen_df['canteen'] == 'โรงอาหารในกลุ่มอาคารสุขศาสตร์','la'] = 0\n",
        "canteen_df.loc[canteen_df['canteen'] == 'โรงอาหารในกลุ่มอาคารสุขศาสตร์','lo'] = 0\n",
        "canteen_df.loc[canteen_df['canteen'] == 'โรงอาหาร JC','la'] = 14.069210281008967\n",
        "canteen_df.loc[canteen_df['canteen'] == 'โรงอาหาร JC','lo'] = 100.6046831286727\n"
      ],
      "metadata": {
        "id": "WC9b4LxHynLK"
      },
      "execution_count": null,
      "outputs": []
    },
    {
      "cell_type": "code",
      "source": [
        "canteen_df"
      ],
      "metadata": {
        "id": "DK7hTqdbwunK"
      },
      "execution_count": null,
      "outputs": []
    },
    {
      "cell_type": "code",
      "source": [
        "# Create figure\n",
        "canteenScatter_fig = px.scatter_mapbox(canteen_df, lat=\"la\", lon=\"lo\",\n",
        "    color=\"count\",\n",
        "    size=\"count\",\n",
        "    size_max=70,\n",
        "    hover_name=\"canteen\",\n",
        "    hover_data=[\"count\"],\n",
        "    text=\"canteen\",\n",
        "    color_continuous_scale=px.colors.sequential.Oryel,\n",
        "    zoom=14\n",
        "    #height=20, width=50\n",
        "    )\n",
        "\n",
        "canteenScatter_fig.update_layout(mapbox_style=\"carto-positron\",\n",
        "                                 mapbox_bounds={\"west\": 100.592, \"east\": 100.62, \"south\": 14.06, \"north\": 14.08},\n",
        "                                 font_family=\"Noto Sans Thai\"\n",
        ")\n",
        "\n",
        "canteenScatter_fig.update_layout(\n",
        "    width=1280,\n",
        "    height=720,\n",
        "    margin={\"l\": 0, \"r\": 0, \"t\": 50, \"b\": 0},\n",
        ")\n",
        "\n",
        "\n",
        "# Set templates\n",
        "canteenScatter_fig.update_layout(template=\"plotly_white\",\n",
        "    title='โรงอาหารที่เป็นที่นิยม',\n",
        "    autosize=True)\n",
        "canteenScatter_fig.update_layout\n",
        "\n",
        "canteenScatter_fig.show()"
      ],
      "metadata": {
        "id": "Y7Ij9-KFhukP"
      },
      "execution_count": null,
      "outputs": []
    },
    {
      "cell_type": "code",
      "source": [
        "canteenreason_data = original['11.เพราะเหตุใด ท่านจึงไปรับประทานที่โรงอาหารนั้นบ่อยที่สุด']\n",
        "\n",
        "canteenreason_bin = \"\".join(canteenreason_data.values)\n",
        "canteenreason_bin = \"\".join(canteenreason_bin.split())\n",
        "canteenreason_string = \" \".join(word_tokenize(canteenreason_bin, engine='newmm'))\n",
        "canteenreason_string"
      ],
      "metadata": {
        "id": "ObxuRuqC9l25"
      },
      "execution_count": null,
      "outputs": []
    },
    {
      "cell_type": "code",
      "source": [
        "plt.imshow(WordCloud(\n",
        "    font_path= '/usr/share/fonts/truetype/thsarabunnew-webfont.ttf',\n",
        "    stopwords=thai_stopwords(),\n",
        "    width = 3000, height = 1800,\n",
        "    min_font_size=1,\n",
        "    collocations=False,\n",
        "    regexp=r\"[ก-๙a-zA-Z']+\",\n",
        "    prefer_horizontal=1\n",
        ").generate(canteenreason_string))"
      ],
      "metadata": {
        "id": "F7jzDu3P9pUJ"
      },
      "execution_count": null,
      "outputs": []
    },
    {
      "cell_type": "markdown",
      "source": [
        "## 5. favorite menu"
      ],
      "metadata": {
        "id": "uwY7NSIZZ-pw"
      }
    },
    {
      "cell_type": "markdown",
      "source": [
        "### favorite menu list"
      ],
      "metadata": {
        "id": "hSDLj6ACwDR9"
      }
    },
    {
      "cell_type": "code",
      "source": [
        "favoriteMenu_data = original['5. เมนูใดที่ท่านชื่นชอบมากที่สุด']\n",
        "\n",
        "favoriteMenu_bin = (\" \").join(favoriteMenu_data.values)\n",
        "favoriteMenu_string = favoriteMenu_bin"
      ],
      "metadata": {
        "id": "CCHrpDcecqIw"
      },
      "execution_count": null,
      "outputs": []
    },
    {
      "cell_type": "code",
      "source": [
        "plt.imshow(WordCloud(\n",
        "    font_path= '/usr/share/fonts/truetype/thsarabunnew-webfont.ttf',\n",
        "    stopwords=thai_stopwords(),\n",
        "    width = 3000, height = 1800,\n",
        "    min_font_size=1,\n",
        "    collocations=False,\n",
        "    regexp=r\"[ก-๙a-zA-Z']+\",\n",
        "    prefer_horizontal=1\n",
        ").generate(favoriteMenu_string))"
      ],
      "metadata": {
        "id": "X2rikijwxAR0"
      },
      "execution_count": null,
      "outputs": []
    },
    {
      "cell_type": "markdown",
      "source": [
        "### reasons\n"
      ],
      "metadata": {
        "id": "jhoRS5jL-4cB"
      }
    },
    {
      "cell_type": "code",
      "source": [
        "reasonToEat_data = original['6. เพราะเหตุใด ท่านจึงชื่นชอบในเมนูนั้น']\n",
        "\n",
        "reasonToEat_bin = \"\".join(reasonToEat_data.values)\n",
        "reasonToEat_bin = \"\".join(reasonToEat_bin.split())\n",
        "reasonToEat_string = \" \".join(word_tokenize(reasonToEat_bin, engine='newmm'))\n",
        "reasonToEat_string"
      ],
      "metadata": {
        "id": "cmCgujop-_2Y"
      },
      "execution_count": null,
      "outputs": []
    },
    {
      "cell_type": "code",
      "source": [
        "plt.imshow(WordCloud(\n",
        "    font_path= '/usr/share/fonts/truetype/thsarabunnew-webfont.ttf',\n",
        "    stopwords=thai_stopwords(),\n",
        "    width = 3000, height = 1800,\n",
        "    min_font_size=1,\n",
        "    collocations=False,\n",
        "    regexp=r\"[ก-๙a-zA-Z']+\",\n",
        "    prefer_horizontal=1\n",
        ").generate(reasonToEat_string))"
      ],
      "metadata": {
        "id": "UzgQOv8QNTbG"
      },
      "execution_count": null,
      "outputs": []
    },
    {
      "cell_type": "code",
      "source": [
        "type(thai_stopwords())"
      ],
      "metadata": {
        "id": "PxWHU3F0CguI"
      },
      "execution_count": null,
      "outputs": []
    },
    {
      "cell_type": "markdown",
      "source": [
        "## 6. prefered taste"
      ],
      "metadata": {
        "id": "ca7IO3rg1grI"
      }
    },
    {
      "cell_type": "code",
      "source": [
        "taste_data = original['3. ท่านชอบรับประทานทานอาหารที่มีรสชาติแบบใด']"
      ],
      "metadata": {
        "id": "qHs8OfLw1mBm"
      },
      "execution_count": null,
      "outputs": []
    },
    {
      "cell_type": "code",
      "source": [
        "# def seperateTaste():\n",
        "taste_count_df = pd.DataFrame(taste_data.value_counts()).reset_index()\n",
        "taste_count_df.rename(columns={'3. ท่านชอบรับประทานทานอาหารที่มีรสชาติแบบใด':'taste'}, inplace=True)"
      ],
      "metadata": {
        "id": "5xkl3HJk2GaE"
      },
      "execution_count": null,
      "outputs": []
    },
    {
      "cell_type": "code",
      "source": [
        "taste_count_df"
      ],
      "metadata": {
        "id": "v2nX0JgJ2_NU"
      },
      "execution_count": null,
      "outputs": []
    },
    {
      "cell_type": "code",
      "source": [
        "taste_and_sex_data = taste_data.to_frame().reset_index(drop=True)\n",
        "taste_and_sex_data['sex'] = sex_data\n",
        "taste_and_sex_data.rename(columns={'3. ท่านชอบรับประทานทานอาหารที่มีรสชาติแบบใด':'taste'}, inplace=True)"
      ],
      "metadata": {
        "id": "CQZWdJdnV6NR"
      },
      "execution_count": null,
      "outputs": []
    },
    {
      "cell_type": "code",
      "source": [
        "taste_and_sex_data"
      ],
      "metadata": {
        "id": "pA7xsR3EWJ3I"
      },
      "execution_count": null,
      "outputs": []
    },
    {
      "cell_type": "code",
      "source": [
        "def get_unique_values_taste(df, column_name, sex_column):\n",
        "    # Split the comma-separated values and create a list\n",
        "    values_list = df[column_name].str.split(',').explode().str.strip().tolist()\n",
        "\n",
        "    # Create a DataFrame with values and corresponding sex\n",
        "    value_sex_df = pd.DataFrame({column_name: values_list, sex_column: df[sex_column].repeat(df[column_name].str.count(',') + 1).values})\n",
        "\n",
        "    # Group by value and sex, count occurrences, and unstack to pivot\n",
        "    grouped_df = value_sex_df.groupby([column_name, sex_column]).size().unstack(fill_value=0)\n",
        "\n",
        "    # Count unique values and create DataFrame\n",
        "    unique_count_df = pd.DataFrame({'Count': value_sex_df[column_name].value_counts()})\n",
        "    unique_count_df.index.name = 'Taste'\n",
        "\n",
        "    # Merge counts with grouped_df\n",
        "    unique_count_df = unique_count_df.merge(grouped_df, how='left', left_index=True, right_index=True)\n",
        "\n",
        "    # Create DataFrame with unique values\n",
        "    unique_values_df = pd.DataFrame(pd.Series(values_list).unique(), columns=['Value'])\n",
        "\n",
        "    return unique_count_df\n",
        "\n",
        "taste_unique_value = get_unique_values_taste(taste_and_sex_data, 'taste', 'sex').reset_index()\n",
        "taste_unique_value"
      ],
      "metadata": {
        "id": "7YDua9HzXiN_"
      },
      "execution_count": null,
      "outputs": []
    },
    {
      "cell_type": "code",
      "source": [
        "taste_unique_value_df = taste_unique_value\n",
        "taste_unique_value_fig = px.bar(taste_unique_value_df.head(4)\n",
        "                                , x='Taste'\n",
        "                                , y=['ชาย', 'หญิง']\n",
        "                                , height=800)\n",
        "taste_unique_value_fig.show()"
      ],
      "metadata": {
        "id": "u0Md-3Mhkw1p"
      },
      "execution_count": null,
      "outputs": []
    },
    {
      "cell_type": "markdown",
      "source": [
        "## 7. meal limitation"
      ],
      "metadata": {
        "id": "HaiUX0bE54jc"
      }
    },
    {
      "cell_type": "code",
      "source": [
        "mealLimit_data = original['4. ท่านมีข้อจำกัดในอาหารที่ท่านสามารถรับประทานหรือไม่(เช่น แพ้อาหาร หรือไม่สามารถทานหมู)']\n",
        "\n",
        "meal_limit_df = pd.DataFrame(mealLimit_data)\n",
        "meal_limit_df = meal_limit_df.value_counts().to_frame().reset_index()\n",
        "meal_limit_df.rename(columns={'4. ท่านมีข้อจำกัดในอาหารที่ท่านสามารถรับประทานหรือไม่(เช่น แพ้อาหาร หรือไม่สามารถทานหมู)':'limitations'}, inplace=True)\n",
        "meal_limit_df.drop(0).reset_index()\n",
        "meal_limit_df"
      ],
      "metadata": {
        "id": "2nJYneLa58bJ"
      },
      "execution_count": null,
      "outputs": []
    },
    {
      "cell_type": "code",
      "source": [
        "meal_limit_fig = px.pie(meal_limit_df, values='count', names='limitations')\n",
        "meal_limit_fig.show()"
      ],
      "metadata": {
        "id": "Rlc5oJ2F6BFr"
      },
      "execution_count": null,
      "outputs": []
    },
    {
      "cell_type": "code",
      "source": [
        "meal_limit_ex_df = meal_limit_df[meal_limit_df['limitations'] != 'ไม่แพ้อาหารหรือมีข้อจำกัดใด ๆ']"
      ],
      "metadata": {
        "id": "K5_T0Wm6fFN8"
      },
      "execution_count": null,
      "outputs": []
    },
    {
      "cell_type": "code",
      "source": [
        "meal_limit_ex_df"
      ],
      "metadata": {
        "id": "-vK7eW_cfVL_"
      },
      "execution_count": null,
      "outputs": []
    },
    {
      "cell_type": "code",
      "source": [
        "meal_limit_ex_fig = px.pie(meal_limit_ex_df, values='count', names='limitations')\n",
        "meal_limit_ex_fig.show()"
      ],
      "metadata": {
        "id": "GlA1yJWYfZGr"
      },
      "execution_count": null,
      "outputs": []
    },
    {
      "cell_type": "markdown",
      "source": [
        "## 8. most eaten in a week"
      ],
      "metadata": {
        "id": "y29NQZzv8CYR"
      }
    },
    {
      "cell_type": "code",
      "source": [
        "mostEat_data = original['7. ในหนึ่งสัปดาห์ ท่านรับประทานอาหารเมนูใดมากที่สุด']\n",
        "\n",
        "mostEat_bin = \"\".join(mostEat_data.values)\n",
        "mostEat_bin = \"\".join(mostEat_bin.split())\n",
        "mostEat_string = \" \".join(word_tokenize(mostEat_bin, engine='newmm'))\n",
        "mostEat_string"
      ],
      "metadata": {
        "id": "xfNMwNV28Fij"
      },
      "execution_count": null,
      "outputs": []
    },
    {
      "cell_type": "code",
      "source": [
        "plt.imshow(WordCloud(\n",
        "    font_path= '/usr/share/fonts/truetype/thsarabunnew-webfont.ttf',\n",
        "    stopwords=thai_stopwords(),\n",
        "    width = 3000, height = 1800,\n",
        "    min_font_size=1,\n",
        "    collocations=False,\n",
        "    regexp=r\"[ก-๙a-zA-Z']+\",\n",
        "    prefer_horizontal=1\n",
        ").generate(mostEat_string))"
      ],
      "metadata": {
        "id": "D39KRToY8K1J"
      },
      "execution_count": null,
      "outputs": []
    },
    {
      "cell_type": "code",
      "source": [
        "mostEatreason_data = original['8. เพราะเหตุใด ท่านจึงรับประทานอาหารเมนูนั้นบ่อย']\n",
        "\n",
        "mostEatreason_bin = \"\".join(mostEatreason_data.values)\n",
        "mostEatreason_bin = \"\".join(mostEatreason_bin.split())\n",
        "mostEatreason_string = \" \".join(word_tokenize(mostEatreason_bin, engine='newmm'))\n",
        "mostEatreason_string"
      ],
      "metadata": {
        "id": "_pdCWJZK8-2j"
      },
      "execution_count": null,
      "outputs": []
    },
    {
      "cell_type": "code",
      "source": [
        "plt.imshow(WordCloud(\n",
        "    font_path= '/usr/share/fonts/truetype/thsarabunnew-webfont.ttf',\n",
        "    stopwords=thai_stopwords(),\n",
        "    width = 3000, height = 1800,\n",
        "    min_font_size=1,\n",
        "    collocations=False,\n",
        "    regexp=r\"[ก-๙a-zA-Z']+\",\n",
        "    prefer_horizontal=1\n",
        ").generate(mostEatreason_string))"
      ],
      "metadata": {
        "id": "3mPLP5oM9A-z"
      },
      "execution_count": null,
      "outputs": []
    },
    {
      "cell_type": "markdown",
      "source": [
        "## 9. factor"
      ],
      "metadata": {
        "id": "YA_1v75b-xNK"
      }
    },
    {
      "cell_type": "code",
      "source": [
        "factor_data = {\n",
        "    \"price\" : original[\"[ราคาอาหาร]\"],\n",
        "    \"amount\" : original['[ปริมาณอาหาร]'],\n",
        "    \"taste\" : original['[รสชาติอาหาร]'],\n",
        "    \"nutrition\" : original['[คุณค่าทางโภชนาการ]'],\n",
        "\n",
        "    \"relevant\" : original['[ความนิยมของร้านอาหาร]'],\n",
        "    \"hygiene\" : original['[ความสะอาดของโรงอาหาร]'],\n",
        "    \"environ\" : original['[บรรยากาศของโรงอาหาร(เช่นจำนวนคน)]'],\n",
        "    \"service\" : original['[การบริการของโรงอาหาร(เช่นเวลาในการได้รับอาหาร)]'],\n",
        "    \"location\" : original['[แหล่งที่ตั้งของโรงอาหาร]']\n",
        "}"
      ],
      "metadata": {
        "id": "m_Z99Tfr-z7L"
      },
      "execution_count": null,
      "outputs": []
    },
    {
      "cell_type": "code",
      "source": [
        "factor_food_df = {\n",
        "    \"factor\":[\"price\",\"amount\",\"taste\",\"nutrition\"],\n",
        "    \"mean\":[factor_data[\"price\"].mean(),factor_data[\"amount\"].mean(),factor_data[\"taste\"].mean(),factor_data[\"nutrition\"].mean()]\n",
        "}\n",
        "\n",
        "factor_canteen_df = {\n",
        "    \"factor\":[\"relevant\",\"hygiene\",\"environment\",\"service\",\"location\"],\n",
        "    \"mean\":[factor_data[\"relevant\"].mean(),\n",
        "            factor_data[\"hygiene\"].mean(),\n",
        "            factor_data[\"environ\"].mean(),\n",
        "            factor_data[\"service\"].mean(),\n",
        "            factor_data[\"location\"].mean()]\n",
        "}\n",
        "\n",
        "# \"price\" : original[\" [ราคาอาหาร]\"].mean(),\n",
        "# \"amount\" : original['[ปริมาณอาหาร]'].mean(),\n",
        "# \"taste\" : original['[รสชาติอาหาร]'].mean(),\n",
        "# \"nutrition\" : original[' [คุณค่าทางโภชนาการ]'].mean(),\n",
        "\n",
        "factor_food_df = pd.DataFrame.from_dict(factor_food_df)\n",
        "factor_canteen_df = pd.DataFrame.from_dict(factor_canteen_df)"
      ],
      "metadata": {
        "id": "QaVMytzBFBvO"
      },
      "execution_count": null,
      "outputs": []
    },
    {
      "cell_type": "code",
      "source": [
        "factor_merge = pd.concat([factor_food_df,factor_canteen_df]).reset_index(drop=True)"
      ],
      "metadata": {
        "id": "AdTF_iU8lD34"
      },
      "execution_count": null,
      "outputs": []
    },
    {
      "cell_type": "code",
      "source": [
        "factor_merge"
      ],
      "metadata": {
        "id": "miMu49VgmGZY"
      },
      "execution_count": null,
      "outputs": []
    },
    {
      "cell_type": "code",
      "source": [
        "# factor_food_fig1 = go.Figure(data=go.Scatterpolar(\n",
        "#                     r=factor_merge['mean'],\n",
        "#                     theta=factor_merge['factor'],\n",
        "#                     connectgaps=True,\n",
        "#                     fill='toself'\n",
        "#                   ))\n",
        "# factor_food_fig1.update_layout(\n",
        "#     title=\"ปัจจัย\",\n",
        "#     polar=dict(\n",
        "#     radialaxis=dict(\n",
        "#       visible=True,\n",
        "#       range=[0, 5]\n",
        "#     )),\n",
        "#   showlegend=False\n",
        "# )\n",
        "# factor_food_fig1.show()"
      ],
      "metadata": {
        "id": "cBxuRni7h8Z2"
      },
      "execution_count": null,
      "outputs": []
    },
    {
      "cell_type": "code",
      "source": [
        "factor_food_fig1 = go.Figure(data=go.Scatterpolar(\n",
        "                    r=factor_food_df['mean'],\n",
        "                    theta=factor_food_df['factor'],\n",
        "                    connectgaps=True,\n",
        "                    fill='toself'\n",
        "                  ))\n",
        "factor_food_fig2 = go.Figure(data=go.Scatterpolar(\n",
        "                    r=factor_canteen_df['mean'],\n",
        "                    theta=factor_canteen_df['factor'],\n",
        "                    connectgaps=True,\n",
        "                    fill='toself'\n",
        "                  ))\n",
        "factor_food_fig1.update_layout(\n",
        "    title=\"ปัจจัย\",\n",
        "    polar=dict(\n",
        "    radialaxis=dict(\n",
        "      visible=True,\n",
        "      range=[0, 5]\n",
        "    )),\n",
        "  showlegend=False\n",
        ")\n",
        "\n",
        "factor_food_fig2.update_layout(\n",
        "    title=\"ปัจจัย\",\n",
        "    polar=dict(\n",
        "    radialaxis=dict(\n",
        "      visible=True,\n",
        "      range=[0, 5]\n",
        "    )),\n",
        "  showlegend=False\n",
        ")\n",
        "factor_food_fig1.show()\n",
        "factor_food_fig2.show()"
      ],
      "metadata": {
        "id": "fhOcxiw_PzNP"
      },
      "execution_count": null,
      "outputs": []
    },
    {
      "cell_type": "markdown",
      "source": [
        "## 10. how many days eat at uni per week"
      ],
      "metadata": {
        "id": "l0hcog0cgJ7_"
      }
    },
    {
      "cell_type": "code",
      "source": [
        "days_per_week_data = original['9. ในหนึ่งสัปดาห์ ท่านรับประทานในโรงอาหารของมหาวิทยาลัยธรรมศาสตร์กี่วัน']\n",
        "days_per_week_data"
      ],
      "metadata": {
        "id": "DYK6kV4IgTM2"
      },
      "execution_count": null,
      "outputs": []
    },
    {
      "cell_type": "code",
      "source": [
        "days_per_week_df = days_per_week_data.value_counts().to_frame().reset_index()\n",
        "days_per_week_df.rename(columns={'9. ในหนึ่งสัปดาห์ ท่านรับประทานในโรงอาหารของมหาวิทยาลัยธรรมศาสตร์กี่วัน':'days'}, inplace=True)\n",
        "days_per_week_df = days_per_week_df.sort_values(by=['days'])"
      ],
      "metadata": {
        "id": "R3D1DCQdgqV5"
      },
      "execution_count": null,
      "outputs": []
    },
    {
      "cell_type": "code",
      "source": [
        "days_per_week_df"
      ],
      "metadata": {
        "id": "fmJ6MwpkiYY-"
      },
      "execution_count": null,
      "outputs": []
    },
    {
      "cell_type": "code",
      "source": [
        "days_per_week_fig = px.line(days_per_week_df, x=\"days\", y=\"count\", title='food week')\n",
        "days_per_week_fig.show()"
      ],
      "metadata": {
        "id": "5EPfI5UYkZY5"
      },
      "execution_count": null,
      "outputs": []
    },
    {
      "cell_type": "markdown",
      "source": [
        "## compare income and spending"
      ],
      "metadata": {
        "id": "evRQZD0_Zeq2"
      }
    },
    {
      "cell_type": "code",
      "source": [
        "#ค่าใช้จ่ายเทียบกับรายได้ (ยังไม่เสร็จ)\n",
        "compare_income_and_spending = original[['2. ค่าใช้จ่ายต่ออาหารหนึ่งมื้อ (รวมเครื่องดื่ม และอื่นๆ)', 'รายได้ที่ท่านได้รับต่อเดือน']]\n",
        "compare_income_and_spending.rename(columns={'2. ค่าใช้จ่ายต่ออาหารหนึ่งมื้อ (รวมเครื่องดื่ม และอื่นๆ)':'spending', 'รายได้ที่ท่านได้รับต่อเดือน':'income'}, inplace=True)\n"
      ],
      "metadata": {
        "id": "ZecNjZcoW2eX"
      },
      "execution_count": null,
      "outputs": []
    },
    {
      "cell_type": "code",
      "source": [
        "compare_income_and_spending"
      ],
      "metadata": {
        "id": "Lm2NTNT9vroA"
      },
      "execution_count": null,
      "outputs": []
    },
    {
      "cell_type": "code",
      "source": [
        "def orderingSpending(word):\n",
        "  match word:\n",
        "    case 'ต่ำกวา 30 บาท':\n",
        "      return 0\n",
        "    case '30 - 50 บาท':\n",
        "      return 1\n",
        "    case '51 - 100 บาท':\n",
        "      return 2\n",
        "    case '101 - 200 บาท':\n",
        "      return 3\n",
        "    case 'มากกว่า 200 บาท':\n",
        "      return 4\n",
        "    case _:\n",
        "      return -1;\n",
        "\n",
        "def orderingIncome(word):\n",
        "  match word:\n",
        "    case 'ต่ำกว่า 3,000 บาท':\n",
        "      return 0\n",
        "    case '3,000 - 5,000 บาท':\n",
        "      return 1\n",
        "    case '5,001 - 7,000 บาท':\n",
        "      return 2\n",
        "    case '7,001 - 9,000 บาท':\n",
        "      return 3\n",
        "    case 'มากกว่า 9,000 บาท':\n",
        "      return 4\n",
        "    case _:\n",
        "      return -1;\n",
        "\n",
        "\n",
        "compare_income_and_spending['orderingIncome'] = list(map(orderingIncome, compare_income_and_spending.income))\n",
        "compare_income_and_spending['orderingSpending'] = list(map(orderingSpending, compare_income_and_spending.spending))\n",
        "compare_income_and_spending = compare_income_and_spending.sort_values('orderingIncome').reset_index(drop=True)\n",
        "compare_income_and_spending"
      ],
      "metadata": {
        "id": "Plg2ncslXkcW"
      },
      "execution_count": null,
      "outputs": []
    },
    {
      "cell_type": "code",
      "source": [
        "inc_spending = px.line(compare_income_and_spending, x=compare_income_and_spending.index, y=['orderingSpending','orderingIncome']\n",
        "                       , line_shape='spline'\n",
        "                      #  , markers=True\n",
        "                       #,smoothing=1.3\n",
        "                       )\n",
        "inc_spending.show()"
      ],
      "metadata": {
        "id": "1vYtIJ7QoRkj"
      },
      "execution_count": null,
      "outputs": []
    },
    {
      "cell_type": "markdown",
      "source": [
        "## canteen recommendation"
      ],
      "metadata": {
        "id": "SDci6lZpgdgw"
      }
    },
    {
      "cell_type": "code",
      "source": [
        "recommendation_data = original['สิ่งที่ท่านอยากให้โรงอาหารปรับปรุง']\n",
        "recommendation_data = recommendation_data.dropna()\n",
        "recommendation_bin = \"\".join(recommendation_data.values)\n",
        "recommendation_bin = \"\".join(recommendation_bin.split())\n",
        "recommendation_string = \" \".join(word_tokenize(recommendation_bin, engine='newmm'))\n",
        "recommendation_string"
      ],
      "metadata": {
        "id": "jngtMTebgnXQ"
      },
      "execution_count": null,
      "outputs": []
    },
    {
      "cell_type": "code",
      "source": [
        "recommendation_string"
      ],
      "metadata": {
        "id": "sBd9tHG7g9Ff"
      },
      "execution_count": null,
      "outputs": []
    },
    {
      "cell_type": "code",
      "source": [
        "plt.imshow(WordCloud(\n",
        "    font_path= '/usr/share/fonts/truetype/thsarabunnew-webfont.ttf',\n",
        "    stopwords=thai_stopwords(),\n",
        "    width = 3000, height = 1800,\n",
        "    min_font_size=1,\n",
        "    collocations=False,\n",
        "    regexp=r\"[ก-๙a-zA-Z']+\",\n",
        "    prefer_horizontal=1\n",
        ").generate(recommendation_string))"
      ],
      "metadata": {
        "id": "u8kURAHfgnXR"
      },
      "execution_count": null,
      "outputs": []
    }
  ]
}